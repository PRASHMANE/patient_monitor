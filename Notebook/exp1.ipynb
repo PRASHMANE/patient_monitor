{
 "cells": [
  {
   "cell_type": "markdown",
   "id": "a0b0d5a2",
   "metadata": {},
   "source": [
    "1 extract frames form video"
   ]
  },
  {
   "cell_type": "code",
   "execution_count": null,
   "id": "c12f9c66",
   "metadata": {},
   "outputs": [],
   "source": [
    "import cv2\n",
    "import numpy as np\n",
    "import os\n",
    "\n",
    "SEQUENCE_LENGTH = 30  # number of frames per sequence\n",
    "IMAGE_HEIGHT, IMAGE_WIDTH = 64, 64  # resize frames\n",
    "\n",
    "def extract_frames_from_video(video_path, seq_length=SEQUENCE_LENGTH):\n",
    "    cap = cv2.VideoCapture(video_path)\n",
    "    frames = []\n",
    "    while True:\n",
    "        ret, frame = cap.read()\n",
    "        if not ret:\n",
    "            break\n",
    "        frame = cv2.resize(frame, (IMAGE_WIDTH, IMAGE_HEIGHT))\n",
    "        frame = frame / 255.0  # normalize\n",
    "        frames.append(frame)\n",
    "    cap.release()\n",
    "    \n",
    "    # split into sequences of seq_length frames\n",
    "    sequences = []\n",
    "    for i in range(0, len(frames) - seq_length + 1, seq_length):\n",
    "        sequences.append(np.array(frames[i:i+seq_length]))\n",
    "    return sequences\n"
   ]
  },
  {
   "cell_type": "markdown",
   "id": "05370472",
   "metadata": {},
   "source": [
    "load data from directory"
   ]
  },
  {
   "cell_type": "code",
   "execution_count": null,
   "id": "26baea51",
   "metadata": {},
   "outputs": [],
   "source": [
    "def load_dataset_from_dir(dataset_dir, classes_list):\n",
    "    X, y = [], []\n",
    "    for idx, class_name in enumerate(classes_list):\n",
    "        class_dir = os.path.join(dataset_dir, class_name)\n",
    "        for file in os.listdir(class_dir):\n",
    "            if file.endswith('.mp4'):\n",
    "                video_path = os.path.join(class_dir, file)\n",
    "                sequences = extract_frames_from_video(video_path)\n",
    "                X.extend(sequences)\n",
    "                y.extend([idx]*len(sequences))\n",
    "    X = np.array(X)\n",
    "    y = np.array(y)\n",
    "    return X, y\n"
   ]
  },
  {
   "cell_type": "markdown",
   "id": "1bb56654",
   "metadata": {},
   "source": [
    "Train/Test Split"
   ]
  },
  {
   "cell_type": "code",
   "execution_count": null,
   "id": "206b5a00",
   "metadata": {},
   "outputs": [],
   "source": [
    "from sklearn.model_selection import train_test_split\n",
    "from tensorflow.keras.utils import to_categorical\n",
    "\n",
    "X, y = load_dataset_from_dir('dataset', CLASSES_LIST)\n",
    "y = to_categorical(y, num_classes=len(CLASSES_LIST))\n",
    "\n",
    "X_train, X_test, y_train, y_test = train_test_split(\n",
    "    X, y, test_size=0.2, random_state=42, shuffle=True)\n"
   ]
  },
  {
   "cell_type": "markdown",
   "id": "6bb3a9fe",
   "metadata": {},
   "source": [
    "compile and train LRCN model"
   ]
  },
  {
   "cell_type": "code",
   "execution_count": null,
   "id": "9411a082",
   "metadata": {},
   "outputs": [],
   "source": [
    "from tensorflow.keras.optimizers import Adam\n",
    "\n",
    "model = create_LRCN_model()\n",
    "model.compile(loss='categorical_crossentropy',\n",
    "              optimizer=Adam(learning_rate=1e-4),\n",
    "              metrics=['accuracy'])\n",
    "\n",
    "history = model.fit(\n",
    "    X_train, y_train,\n",
    "    validation_data=(X_test, y_test),\n",
    "    batch_size=8,\n",
    "    epochs=10\n",
    ")\n",
    "model.save('lrcn_model.h5')"
   ]
  },
  {
   "cell_type": "markdown",
   "id": "60e64a1c",
   "metadata": {},
   "source": [
    "real-time testing with opencv"
   ]
  },
  {
   "cell_type": "code",
   "execution_count": null,
   "id": "3958d2a3",
   "metadata": {},
   "outputs": [],
   "source": [
    "import time\n",
    "\n",
    "cap = cv2.VideoCapture(0)  # webcam\n",
    "seq = []\n",
    "\n",
    "while True:\n",
    "    ret, frame = cap.read()\n",
    "    if not ret:\n",
    "        break\n",
    "    \n",
    "    frame_resized = cv2.resize(frame, (IMAGE_WIDTH, IMAGE_HEIGHT))\n",
    "    frame_norm = frame_resized / 255.0\n",
    "    seq.append(frame_norm)\n",
    "    \n",
    "    if len(seq) == SEQUENCE_LENGTH:\n",
    "        input_seq = np.expand_dims(np.array(seq), axis=0)  # shape (1, seq_len, H, W, 3)\n",
    "        pred = model.predict(input_seq)\n",
    "        class_id = np.argmax(pred)\n",
    "        label = CLASSES_LIST[class_id]\n",
    "        seq.pop(0)  # slide window\n",
    "\n",
    "        cv2.putText(frame, label, (50,50), cv2.FONT_HERSHEY_SIMPLEX,\n",
    "                    1, (0,255,0), 2)\n",
    "\n",
    "    cv2.imshow('Activity Recognition', frame)\n",
    "    \n",
    "    if cv2.waitKey(1) & 0xFF == ord('q'):\n",
    "        break\n",
    "\n",
    "cap.release()\n",
    "cv2.destroyAllWindows()\n"
   ]
  }
 ],
 "metadata": {
  "language_info": {
   "name": "python"
  }
 },
 "nbformat": 4,
 "nbformat_minor": 5
}
